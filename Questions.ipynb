{
 "cells": [
  {
   "cell_type": "markdown",
   "id": "9ce08fb4",
   "metadata": {},
   "source": [
    "Quantas tarefas possuem na mudança?\n",
    "Tempo de encerramento de uma tarefa?\n",
    "Qual tempo médio de fechamento de tarefas em uma mudança?\n",
    "A mudança tem extensão?\n",
    "Tempo entre iniciação e aprovação da mudança?\n",
    "Tempo entre aprovação e encerramento da mudança?\n",
    "Quantidade de tarefas com impacto em liberação de produto?\n",
    "\n",
    "\n",
    "Qual o grau de complexidade da mudança?\n",
    "\n",
    "\n",
    "\n"
   ]
  }
 ],
 "metadata": {
  "kernelspec": {
   "display_name": "Python 3",
   "language": "python",
   "name": "python3"
  },
  "language_info": {
   "codemirror_mode": {
    "name": "ipython",
    "version": 3
   },
   "file_extension": ".py",
   "mimetype": "text/x-python",
   "name": "python",
   "nbconvert_exporter": "python",
   "pygments_lexer": "ipython3",
   "version": "3.12.1"
  }
 },
 "nbformat": 4,
 "nbformat_minor": 5
}
